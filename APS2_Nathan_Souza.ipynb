{
  "nbformat": 4,
  "nbformat_minor": 0,
  "metadata": {
    "colab": {
      "provenance": [],
      "collapsed_sections": [],
      "include_colab_link": true
    },
    "kernelspec": {
      "name": "python3",
      "display_name": "Python 3"
    },
    "language_info": {
      "name": "python"
    }
  },
  "cells": [
    {
      "cell_type": "markdown",
      "metadata": {
        "id": "view-in-github",
        "colab_type": "text"
      },
      "source": [
        "<a href=\"https://colab.research.google.com/github/Nathan98A7/APS2-M-todos-Num-ricos/blob/main/APS2_Nathan_Souza.ipynb\" target=\"_parent\"><img src=\"https://colab.research.google.com/assets/colab-badge.svg\" alt=\"Open In Colab\"/></a>"
      ]
    },
    {
      "cell_type": "markdown",
      "source": [
        "APS2 MÉTODOS NUMÉRICOS COMPUTACIONAIS\n",
        "\n",
        "NATHAN SOUZA DA SILVA\n",
        "\n",
        "2017102898\n",
        "\n",
        "A. Carregar uma imagem e transformá-la em um matriz de valores \n",
        "reais.\n",
        "\n",
        "B. Aplicar a Decomposição da matriz por Valores Singulares\n",
        "\n",
        "C. Manter apenas os valores que representam: 60%, 70% e 80% dos \n",
        "Valores Singulares\n",
        "\n",
        "D. Apresentar a imagem transformada com a aplicação do item\n",
        "\n"
      ],
      "metadata": {
        "id": "jw2h9TJaZLUm"
      }
    },
    {
      "cell_type": "code",
      "execution_count": null,
      "metadata": {
        "id": "lgNlcq6RxYN7"
      },
      "outputs": [],
      "source": [
        "import numpy as np\n",
        "from numpy import asarray\n",
        "import matplotlib.pyplot as plt\n",
        "import cv2\n",
        "from numpy.linalg import svd\n",
        "from PIL import Image\n",
        "import os\n",
        "from skimage import io\n",
        "from google.colab.patches import cv2_imshow\n",
        "\n",
        "def compress_image(img_name, img, k):\n",
        "    print(\"processing...\")\n",
        "\n",
        "    # splitting the array into three 2D array (svd only apply on 2D array)\n",
        "    r = img[:, :, 0]  # array for R\n",
        "    g = img[:, :, 1]  # array for G\n",
        "    b = img[:, :, 2]  # array for B\n",
        "\n",
        "    print(\"compressing...\")\n",
        "\n",
        "    # Calculating the svd components for all three arrays\n",
        "    ur, sr, vr = svd(r, full_matrices=False)\n",
        "    ug, sg, vg = svd(g, full_matrices=False)\n",
        "    ub, sb, vb = svd(b, full_matrices=False)\n",
        "\n",
        "    print('dimensões do canal r: {}'.format(r.shape))\n",
        "\n",
        "    # Forming the compress image with reduced information\n",
        "    # We are selecting only k singular values for each array to make image which will exclude some information from the\n",
        "    # image while image will be of same dimension\n",
        "\n",
        "    # ur (mxk), diag(sr) (kxk) and vr (kxn) if image is off (mxn)\n",
        "    # so let suppose we only selecting the k1 singular value from diag(sr) to form image\n",
        "\n",
        "    rr = np.dot(ur[:, :k], np.dot(np.diag(sr[:k]), vr[:k, :]))\n",
        "    rg = np.dot(ug[:, :k], np.dot(np.diag(sg[:k]), vg[:k, :]))\n",
        "    rb = np.dot(ub[:, :k], np.dot(np.diag(sb[:k]), vb[:k, :]))\n",
        "\n",
        "    print(\"arranging...\")\n",
        "\n",
        "    # Creating a array of zeroes; shape will be same as of image matrix\n",
        "    rimg = np.zeros(img.shape)\n",
        "\n",
        "    # Adding matrix for R, G & B in created array\n",
        "    rimg[:, :, 0] = rr\n",
        "    rimg[:, :, 1] = rg\n",
        "    rimg[:, :, 2] = rb\n",
        "\n",
        "    # It will check if any value will be less than 0 will be converted to its absolute\n",
        "    # and, if any value is greater than 255 than it will be converted to 255\n",
        "    # because in image array of unit8 can only have value between 0 & 255\n",
        "    for ind1, row in enumerate(rimg):\n",
        "        for ind2, col in enumerate(row):\n",
        "            for ind3, value in enumerate(col):\n",
        "                if value < 0:\n",
        "                    rimg[ind1, ind2, ind3] = abs(value)\n",
        "                if value > 255:\n",
        "                    rimg[ind1, ind2, ind3] = 255\n",
        "\n",
        "    # converting the compress image array to uint8 type for further conversion into image object\n",
        "    compressed_image = rimg.astype(np.uint8)\n",
        "\n",
        "    # Showing the compressed image in graph\n",
        "    plt.title(\"Image Name - figura compactada: \" + img_name + \"\\n\")\n",
        "    plt.imshow(compressed_image)\n",
        "    plt.axis('off')\n",
        "    plt.show()\n",
        "    cv2.imwrite(\"Imagem/comp-\" + str(img_name) + \".jpg\", compressed_image)\n",
        "\n",
        "    # Uncomment below code if you want to save your compressed image to the file\n",
        "    # compressed_image = Image.fromarray(compressed_image)\n",
        "    # compressed_image.save(\"image_name.jpg\")\n",
        "\n",
        "\n",
        "origem = \"https://static.wikia.nocookie.net/smite-br/images/5/52/Sun_Wukong.jpg/revision/latest?cb=20150208020423&path-prefix=pt-br\"\n",
        "image = io.imread(origem)\n",
        "data = asarray(image)  # Transforma a imagem em array e logo depois mostra a saida de dados\n",
        "print(data)  # esse print é meramente para a visualização da conversão\n",
        "print('\\n')\n",
        "RGB_img = cv2.cvtColor(image, cv2.COLOR_BGR2RGB)\n",
        "cv2_imshow(RGB_img)\n",
        "k = [60, 70, 80]\n",
        "for x in range(len(k)):\n",
        " compress_image(\"foto\", image, k[x])\n",
        " print(f'Imagem está com k no valor {k[x]}')"
      ]
    }
  ]
}